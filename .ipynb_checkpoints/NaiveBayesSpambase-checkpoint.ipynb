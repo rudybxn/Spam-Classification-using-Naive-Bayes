{
 "cells": [
  {
   "cell_type": "code",
   "execution_count": 1,
   "metadata": {},
   "outputs": [],
   "source": [
    "import matplotlib.pyplot as plt\n",
    "import numpy as np\n",
    "import pandas as pd\n",
    "np.random.seed(0)\n",
    "import numpy as np\n",
    "from sklearn.model_selection import train_test_split\n",
    "import scipy.stats as stats"
   ]
  },
  {
   "cell_type": "code",
   "execution_count": 2,
   "metadata": {},
   "outputs": [
    {
     "name": "stdout",
     "output_type": "stream",
     "text": [
      "1534\n"
     ]
    }
   ],
   "source": [
    "spambasedata = np.loadtxt('spambase.data', delimiter=',',dtype = float)\n",
    "np.random.shuffle(spambasedata)\n",
    "X, Y = spambasedata[:,:-1], spambasedata[:,-1]\n",
    "\n",
    "#standardize\n",
    "mean = np.mean(X)\n",
    "std = np.std(X)\n",
    "X = (X-mean)/std\n",
    "#print(Y)\n",
    "\n",
    "train_x,test_x,train_y,test_y = train_test_split(X,Y,test_size=1/3,random_state = 0) #split\n",
    "\n",
    "print(len(test_x))\n",
    "test_spam,train_spam = 0,0"
   ]
  },
  {
   "cell_type": "code",
   "execution_count": 3,
   "metadata": {},
   "outputs": [
    {
     "name": "stderr",
     "output_type": "stream",
     "text": [
      "C:\\Users\\Rudy\\Anaconda3\\lib\\site-packages\\ipykernel_launcher.py:59: RuntimeWarning: divide by zero encountered in log\n",
      "C:\\Users\\Rudy\\Anaconda3\\lib\\site-packages\\ipykernel_launcher.py:60: RuntimeWarning: divide by zero encountered in log\n"
     ]
    },
    {
     "name": "stdout",
     "output_type": "stream",
     "text": [
      "accuracy: 0.81877444589309\n",
      "precision: 0.6936067551266586\n",
      "recall: 0.9599332220367279\n",
      "f-measure: 0.8053221288515406\n"
     ]
    }
   ],
   "source": [
    "\n",
    "for i in range(len(test_y)):\n",
    "    if(test_y[i]==1):\n",
    "        test_spam+=1 # number of spams in testing set\n",
    "for i in range(len(train_y)):\n",
    "    #print(train_y[i])\n",
    "    if(train_y[i]==1):\n",
    "        train_spam+=1 # number of spams in training set\n",
    "\n",
    "prob_trainspam = train_spam/len(train_y)\n",
    "prob_testspam = test_spam/len(test_y)\n",
    "prob_trainlegit = 1 - prob_trainspam\n",
    "prob_testlegit = 1 - prob_testspam\n",
    "\n",
    "def gaussiancalc(x,mean,std):\n",
    "    if (std == 0):\n",
    "           std = 0.01\n",
    "    a = 1.0/float(np.sqrt(2*np.pi)*std)\n",
    "    b = a * float(np.exp(-((x-mean)**2)/(2*float(std**2))))\n",
    "    return b\n",
    "\n",
    "trainspam_mean, trainlegit_mean = [] , []\n",
    "trainspam_std , trainlegit_std = [] , []\n",
    "expected=[]\n",
    "chosenvalue=0\n",
    "\n",
    "def calculatemeasure(expected):\n",
    "    TN,TP,FP,FN = 0,0,0,0\n",
    "    for row in range(len(expected)):\n",
    "        if (expected[row] == 1 and test_y[row] == 1):\n",
    "            TP += 1\n",
    "        elif (expected[row] == 0 and test_y[row] == 0 ):\n",
    "            TN += 1\n",
    "        elif (expected[row] == 1 and test_y[row] == 0 ):\n",
    "            FP += 1\n",
    "        elif(expected[row]==0 and test_y[row] ==1):\n",
    "            FN += 1\n",
    "    return TP,TN,FP,FN\n",
    "\n",
    "#create 2 samples, one spam, other not spam and store mean and std\n",
    "for x in range(train_x.shape[1]):\n",
    "    spam =[]\n",
    "    legit=[]\n",
    "    for row in range(len(train_y)):\n",
    "        if(train_y[row] ==1):\n",
    "            spam.append(train_x[row][x])\n",
    "        else:\n",
    "            legit.append(train_x[row][x])\n",
    "    trainspam_mean.append(np.mean(spam))\n",
    "    trainlegit_mean.append(np.mean(legit))\n",
    "    trainspam_std.append(np.std(spam))\n",
    "    trainlegit_std.append(np.std(legit))\n",
    "\n",
    "for each_row in range(len(test_x)):\n",
    "    yes = np.log(prob_trainspam)\n",
    "    no = np.log(prob_trainlegit)\n",
    "    for each_feature in range(test_x.shape[1]):\n",
    "        x = test_x[each_row][each_feature]\n",
    "        yes += np.log(gaussiancalc(x,trainspam_mean[each_feature],trainspam_std[each_feature]))\n",
    "        no += np.log(gaussiancalc(x,trainlegit_mean[each_feature],trainlegit_std[each_feature]))\n",
    "    chosenvalue = np.argmax([no, yes])\n",
    "    expected.append(chosenvalue)\n",
    "\n",
    "\n",
    "\n",
    "TP,TN,FP,FN = calculatemeasure(expected)\n",
    "accuracy = (TP + TN)/(TP+TN+FP+FN)\n",
    "print (\"accuracy:\", accuracy)\n",
    "precision = (TP)/(TP+FP)\n",
    "recall = (TP)/(TP+FN)\n",
    "print (\"precision:\", precision)\n",
    "print (\"recall:\", recall)\n",
    "fmeasure = (2*precision*recall)/(precision+recall)\n",
    "print('f-measure:',fmeasure)\n",
    "\n"
   ]
  },
  {
   "cell_type": "code",
   "execution_count": null,
   "metadata": {},
   "outputs": [],
   "source": []
  }
 ],
 "metadata": {
  "kernelspec": {
   "display_name": "Python 3",
   "language": "python",
   "name": "python3"
  },
  "language_info": {
   "codemirror_mode": {
    "name": "ipython",
    "version": 3
   },
   "file_extension": ".py",
   "mimetype": "text/x-python",
   "name": "python",
   "nbconvert_exporter": "python",
   "pygments_lexer": "ipython3",
   "version": "3.7.3"
  }
 },
 "nbformat": 4,
 "nbformat_minor": 2
}
